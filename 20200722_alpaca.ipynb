{
  "nbformat": 4,
  "nbformat_minor": 0,
  "metadata": {
    "colab": {
      "name": "20200722_alpaca.ipynb",
      "provenance": [],
      "authorship_tag": "ABX9TyO+QZbkwYOgguypcHxaVkEX",
      "include_colab_link": true
    },
    "kernelspec": {
      "name": "python3",
      "display_name": "Python 3"
    }
  },
  "cells": [
    {
      "cell_type": "markdown",
      "metadata": {
        "id": "view-in-github",
        "colab_type": "text"
      },
      "source": [
        "<a href=\"https://colab.research.google.com/github/xbrucelee88x/2020/blob/master/20200722_alpaca.ipynb\" target=\"_parent\"><img src=\"https://colab.research.google.com/assets/colab-badge.svg\" alt=\"Open In Colab\"/></a>"
      ]
    },
    {
      "cell_type": "code",
      "metadata": {
        "id": "jP1-Lr9OmfkL",
        "colab_type": "code",
        "colab": {
          "base_uri": "https://localhost:8080/",
          "height": 802
        },
        "outputId": "620cf06f-aa04-4339-a61d-ed398fcc04b0"
      },
      "source": [
        "!pip install alpaca-trade-api"
      ],
      "execution_count": 2,
      "outputs": [
        {
          "output_type": "stream",
          "text": [
            "Collecting alpaca-trade-api\n",
            "  Downloading https://files.pythonhosted.org/packages/27/22/72576860288e1c9d3e231feec2bf3c88be09dcf14a90d1c4e279e7e8d507/alpaca_trade_api-0.49.0-py3-none-any.whl\n",
            "Requirement already satisfied: pandas<2,>1 in /usr/local/lib/python3.6/dist-packages (from alpaca-trade-api) (1.0.5)\n",
            "Collecting alpha-vantage<3,>=2\n",
            "  Downloading https://files.pythonhosted.org/packages/12/e3/72ec32d859a363c2eebaa42e0d4abb5ac7172a7a77a2307576ceb5fc1b42/alpha_vantage-2.2.0.tar.gz\n",
            "Collecting websockets<9,>=8.0\n",
            "\u001b[?25l  Downloading https://files.pythonhosted.org/packages/bb/d9/856af84843912e2853b1b6e898ac8b802989fcf9ecf8e8445a1da263bf3b/websockets-8.1-cp36-cp36m-manylinux2010_x86_64.whl (78kB)\n",
            "\u001b[K     |████████████████████████████████| 81kB 3.8MB/s \n",
            "\u001b[?25hRequirement already satisfied: urllib3<1.26,>1.24 in /usr/local/lib/python3.6/dist-packages (from alpaca-trade-api) (1.24.3)\n",
            "Requirement already satisfied: requests<3,>2 in /usr/local/lib/python3.6/dist-packages (from alpaca-trade-api) (2.23.0)\n",
            "Collecting websocket-client<1,>=0.56.0\n",
            "\u001b[?25l  Downloading https://files.pythonhosted.org/packages/4c/5f/f61b420143ed1c8dc69f9eaec5ff1ac36109d52c80de49d66e0c36c3dfdf/websocket_client-0.57.0-py2.py3-none-any.whl (200kB)\n",
            "\u001b[K     |████████████████████████████████| 204kB 27.3MB/s \n",
            "\u001b[?25hRequirement already satisfied: python-dateutil>=2.6.1 in /usr/local/lib/python3.6/dist-packages (from pandas<2,>1->alpaca-trade-api) (2.8.1)\n",
            "Requirement already satisfied: numpy>=1.13.3 in /usr/local/lib/python3.6/dist-packages (from pandas<2,>1->alpaca-trade-api) (1.18.5)\n",
            "Requirement already satisfied: pytz>=2017.2 in /usr/local/lib/python3.6/dist-packages (from pandas<2,>1->alpaca-trade-api) (2018.9)\n",
            "Collecting aiohttp\n",
            "\u001b[?25l  Downloading https://files.pythonhosted.org/packages/7c/39/7eb5f98d24904e0f6d3edb505d4aa60e3ef83c0a58d6fe18244a51757247/aiohttp-3.6.2-cp36-cp36m-manylinux1_x86_64.whl (1.2MB)\n",
            "\u001b[K     |████████████████████████████████| 1.2MB 37.5MB/s \n",
            "\u001b[?25hRequirement already satisfied: chardet<4,>=3.0.2 in /usr/local/lib/python3.6/dist-packages (from requests<3,>2->alpaca-trade-api) (3.0.4)\n",
            "Requirement already satisfied: certifi>=2017.4.17 in /usr/local/lib/python3.6/dist-packages (from requests<3,>2->alpaca-trade-api) (2020.6.20)\n",
            "Requirement already satisfied: idna<3,>=2.5 in /usr/local/lib/python3.6/dist-packages (from requests<3,>2->alpaca-trade-api) (2.10)\n",
            "Requirement already satisfied: six in /usr/local/lib/python3.6/dist-packages (from websocket-client<1,>=0.56.0->alpaca-trade-api) (1.15.0)\n",
            "Requirement already satisfied: attrs>=17.3.0 in /usr/local/lib/python3.6/dist-packages (from aiohttp->alpha-vantage<3,>=2->alpaca-trade-api) (19.3.0)\n",
            "Collecting async-timeout<4.0,>=3.0\n",
            "  Downloading https://files.pythonhosted.org/packages/e1/1e/5a4441be21b0726c4464f3f23c8b19628372f606755a9d2e46c187e65ec4/async_timeout-3.0.1-py3-none-any.whl\n",
            "Collecting multidict<5.0,>=4.5\n",
            "\u001b[?25l  Downloading https://files.pythonhosted.org/packages/1a/95/f50352b5366e7d579e8b99631680a9e32e1b22adfa1629a8f23b1d22d5e2/multidict-4.7.6-cp36-cp36m-manylinux1_x86_64.whl (148kB)\n",
            "\u001b[K     |████████████████████████████████| 153kB 47.4MB/s \n",
            "\u001b[?25hRequirement already satisfied: typing-extensions>=3.6.5; python_version < \"3.7\" in /usr/local/lib/python3.6/dist-packages (from aiohttp->alpha-vantage<3,>=2->alpaca-trade-api) (3.7.4.2)\n",
            "Collecting idna-ssl>=1.0; python_version < \"3.7\"\n",
            "  Downloading https://files.pythonhosted.org/packages/46/03/07c4894aae38b0de52b52586b24bf189bb83e4ddabfe2e2c8f2419eec6f4/idna-ssl-1.1.0.tar.gz\n",
            "Collecting yarl<2.0,>=1.0\n",
            "\u001b[?25l  Downloading https://files.pythonhosted.org/packages/95/8f/0209fc5d975f839344c33c822ff2f7ef80f6b1e984673a5a68f960bfa583/yarl-1.4.2-cp36-cp36m-manylinux1_x86_64.whl (252kB)\n",
            "\u001b[K     |████████████████████████████████| 256kB 38.7MB/s \n",
            "\u001b[?25hBuilding wheels for collected packages: alpha-vantage, idna-ssl\n",
            "  Building wheel for alpha-vantage (setup.py) ... \u001b[?25l\u001b[?25hdone\n",
            "  Created wheel for alpha-vantage: filename=alpha_vantage-2.2.0-cp36-none-any.whl size=25705 sha256=aba3f45a3b3ae4d3695e5e99f8c3640e84577d513893c542dc8251e51c08cb1a\n",
            "  Stored in directory: /root/.cache/pip/wheels/3a/fa/05/80b0afcbd2a4de8bd2a0c5cd77084e3d3a9cc12c48be9b7f84\n",
            "  Building wheel for idna-ssl (setup.py) ... \u001b[?25l\u001b[?25hdone\n",
            "  Created wheel for idna-ssl: filename=idna_ssl-1.1.0-cp36-none-any.whl size=3162 sha256=63373638c3965439d69ee1454638063b45a13a69c124b28139dabfdcea993432\n",
            "  Stored in directory: /root/.cache/pip/wheels/d3/00/b3/32d613e19e08a739751dd6bf998cfed277728f8b2127ad4eb7\n",
            "Successfully built alpha-vantage idna-ssl\n",
            "Installing collected packages: async-timeout, multidict, idna-ssl, yarl, aiohttp, alpha-vantage, websockets, websocket-client, alpaca-trade-api\n",
            "Successfully installed aiohttp-3.6.2 alpaca-trade-api-0.49.0 alpha-vantage-2.2.0 async-timeout-3.0.1 idna-ssl-1.1.0 multidict-4.7.6 websocket-client-0.57.0 websockets-8.1 yarl-1.4.2\n"
          ],
          "name": "stdout"
        }
      ]
    },
    {
      "cell_type": "code",
      "metadata": {
        "id": "T8DZCQ5amp-R",
        "colab_type": "code",
        "colab": {}
      },
      "source": [
        "import alpaca_trade_api "
      ],
      "execution_count": null,
      "outputs": []
    },
    {
      "cell_type": "code",
      "metadata": {
        "id": "aZ6VJWtx0yQH",
        "colab_type": "code",
        "colab": {
          "base_uri": "https://localhost:8080/",
          "height": 34
        },
        "outputId": "d4e0f4e6-4bbf-4f81-8cc8-4da882cc9981"
      },
      "source": [
        "!ls"
      ],
      "execution_count": null,
      "outputs": [
        {
          "output_type": "stream",
          "text": [
            "sample_data\n"
          ],
          "name": "stdout"
        }
      ]
    },
    {
      "cell_type": "code",
      "metadata": {
        "id": "pcdsb0qvviy7",
        "colab_type": "code",
        "colab": {
          "base_uri": "https://localhost:8080/",
          "height": 34
        },
        "outputId": "efc4a317-acfb-4f9f-a9ae-19161ca36377"
      },
      "source": [
        "!python3 --version"
      ],
      "execution_count": null,
      "outputs": [
        {
          "output_type": "stream",
          "text": [
            "Python 3.6.9\n"
          ],
          "name": "stdout"
        }
      ]
    },
    {
      "cell_type": "code",
      "metadata": {
        "id": "GyfCBXVoy9PN",
        "colab_type": "code",
        "colab": {
          "base_uri": "https://localhost:8080/",
          "height": 147
        },
        "outputId": "c087aa87-08b6-4c6e-815e-1bc69142286c"
      },
      "source": [
        "import alpaca_trade_api as alpacaapi = alpaca.REST('PKEGSKB86SI73AQNJ18U', 'YNUMmC7DoWddJBm6MWAaFmaSJmUZjbdZkhWZOfls', 'https://paper-api.alpaca.markets')"
      ],
      "execution_count": null,
      "outputs": [
        {
          "output_type": "error",
          "ename": "SyntaxError",
          "evalue": "ignored",
          "traceback": [
            "\u001b[0;36m  File \u001b[0;32m\"<ipython-input-26-8757e87546e0>\"\u001b[0;36m, line \u001b[0;32m1\u001b[0m\n\u001b[0;31m    import alpaca_trade_api as alpacaapi = alpaca.REST('PKEGSKB86SI73AQNJ18U', 'YNUMmC7DoWddJBm6MWAaFmaSJmUZjbdZkhWZOfls', 'https://paper-api.alpaca.markets')\u001b[0m\n\u001b[0m                                         ^\u001b[0m\n\u001b[0;31mSyntaxError\u001b[0m\u001b[0;31m:\u001b[0m invalid syntax\n"
          ]
        }
      ]
    },
    {
      "cell_type": "code",
      "metadata": {
        "id": "0nsDXzxqx7kZ",
        "colab_type": "code",
        "colab": {
          "base_uri": "https://localhost:8080/",
          "height": 147
        },
        "outputId": "9af05687-5f87-443a-bce4-29dfb0028df4"
      },
      "source": [
        "import alpaca_trade_api as alpacaapi = alpaca.REST('PKEGSKB86SI73AQNJ18U', 'YNUMmC7DoWddJBm6MWAaFmaSJmUZjbdZkhWZOfls', 'https://paper-api.alpaca.markets')"
      ],
      "execution_count": null,
      "outputs": [
        {
          "output_type": "error",
          "ename": "SyntaxError",
          "evalue": "ignored",
          "traceback": [
            "\u001b[0;36m  File \u001b[0;32m\"<ipython-input-23-f770823a8d63>\"\u001b[0;36m, line \u001b[0;32m1\u001b[0m\n\u001b[0;31m    import alpaca_trade_api as alpacaapi=alpaca.REST('PKEGSKB86SI73AQNJ18U','YNUMmC7DoWddJBm6MWAaFmaSJmUZjbdZkhWZOfls','https://paper-api.alpaca.markets')\u001b[0m\n\u001b[0m                                        ^\u001b[0m\n\u001b[0;31mSyntaxError\u001b[0m\u001b[0;31m:\u001b[0m invalid syntax\n"
          ]
        }
      ]
    },
    {
      "cell_type": "code",
      "metadata": {
        "id": "PTXoSLi3xcJ7",
        "colab_type": "code",
        "colab": {
          "base_uri": "https://localhost:8080/",
          "height": 130
        },
        "outputId": "6a6a6ae6-e88a-441a-8b23-a3f646ad8a98"
      },
      "source": [
        "$\\sqrt{3x-1}+(1+x)^2$"
      ],
      "execution_count": null,
      "outputs": [
        {
          "output_type": "error",
          "ename": "SyntaxError",
          "evalue": "ignored",
          "traceback": [
            "\u001b[0;36m  File \u001b[0;32m\"<ipython-input-27-df6d7bdb2a50>\"\u001b[0;36m, line \u001b[0;32m1\u001b[0m\n\u001b[0;31m    $\\sqrt{3x-1}+(1+x)^2$\u001b[0m\n\u001b[0m    ^\u001b[0m\n\u001b[0;31mSyntaxError\u001b[0m\u001b[0;31m:\u001b[0m invalid syntax\n"
          ]
        }
      ]
    },
    {
      "cell_type": "code",
      "metadata": {
        "id": "PQa6yVwwyT_V",
        "colab_type": "code",
        "colab": {
          "base_uri": "https://localhost:8080/",
          "height": 51
        },
        "outputId": "3c2fb315-1d30-4571-8f6c-95163a6962ba"
      },
      "source": [
        "!$\\sqrt{3x-1}+(1+x)^2$"
      ],
      "execution_count": null,
      "outputs": [
        {
          "output_type": "stream",
          "text": [
            "/bin/bash: -c: line 0: syntax error near unexpected token `1+x'\n",
            "/bin/bash: -c: line 0: `$\\sqrt{3x-1}+(1+x)^2$'\n"
          ],
          "name": "stdout"
        }
      ]
    },
    {
      "cell_type": "code",
      "metadata": {
        "id": "FNE5OYQsyVf-",
        "colab_type": "code",
        "colab": {
          "base_uri": "https://localhost:8080/",
          "height": 221
        },
        "outputId": "29b930dd-4c61-4e8a-a214-2ddd545eab7b"
      },
      "source": [
        "\n",
        "import alpaca_trade_api as tradeapi\n",
        "import time\n",
        "import datetime\n",
        "from datetime import timedelta\n",
        "from pytz import timezone\n",
        "tz = timezone('EST')\n",
        "\n",
        "import numpy as np\n",
        "import pandas as pd\n",
        "\n",
        "#api = tradeapi.REST('your api key here',\n",
        "#                    'your api secret code here',\n",
        "#                    'https://paper-api.alpaca.markets')\n",
        "\n",
        "api = tradeapi.REST('PKEGSKB86SI73AQNJ18U',\n",
        "                    'YNUMmC7DoWddJBm6MWAaFmaSJmUZjbdZkhWZOfls',\n",
        "                    'https://paper-api.alpaca.markets')\n",
        "\n",
        "\n",
        "import logging\n",
        "logging.basicConfig(filename='./apca_algo.log', format='%(name)s - %(levelname)s - %(message)s')\n",
        "logging.warning('{} logging started'.format(datetime.datetime.now().strftime(\"%x %X\")))\n",
        "\n",
        "def get_data_bars(symbols, rate, slow, fast):\n",
        "\n",
        "    data = api.get_barset(symbols, rate, limit=20).df\n",
        "\n",
        "    for x in symbols:\n",
        "        data.loc[:, (x, 'fast_ema')] = data[x]['close'].rolling(window=fast).mean()\n",
        "        data.loc[:, (x, 'slow_ema')] = data[x]['close'].rolling(window=slow).mean()\n",
        "    return data\n",
        "\n",
        "def get_signal_bars(symbol_list, rate, ema_slow, ema_fast):\n",
        "    data = get_data_bars(symbol_list, rate, ema_slow, ema_fast)\n",
        "    signals = {}\n",
        "    for x in symbol_list:\n",
        "        if data[x].iloc[-1]['fast_ema'] > data[x].iloc[-1]['slow_ema']: signal = 1\n",
        "        else: signal = 0\n",
        "        signals[x] = signal\n",
        "    return signals\n",
        "\n",
        "def time_to_open(current_time):\n",
        "    if current_time.weekday() <= 4:\n",
        "        d = (current_time + timedelta(days=1)).date()\n",
        "    else:\n",
        "        days_to_mon = 0 - current_time.weekday() + 7\n",
        "        d = (current_time + timedelta(days=days_to_mon)).date()\n",
        "    next_day = datetime.datetime.combine(d, datetime.time(9, 30, tzinfo=tz))\n",
        "    seconds = (next_day - current_time).total_seconds()\n",
        "    return seconds\n",
        "\n",
        "def run_checker(stocklist):\n",
        "    print('run_checker started')\n",
        "    while True:\n",
        "        # Check if Monday-Friday\n",
        "        if datetime.datetime.now(tz).weekday() >= 0 and datetime.datetime.now(tz).weekday() <= 4:\n",
        "            # Checks market is open\n",
        "            print('Trading day')\n",
        "            if datetime.datetime.now(tz).time() > datetime.time(9, 30) and datetime.datetime.now(tz).time() <= datetime.time(15, 30):\n",
        "                signals = get_signal_bars(stocklist, '5Min', 20, 5)\n",
        "                for signal in signals:\n",
        "                    if signals[signal] == 1:\n",
        "                        if signal not in [x.symbol for x in api.list_positions()]:\n",
        "                            logging.warning('{} {} - {}'.format(datetime.datetime.now(tz).strftime(\"%x %X\"), signal, signals[signal]))\n",
        "                            api.submit_order(signal, 1, 'buy', 'market', 'day')\n",
        "                            # print(datetime.datetime.now(tz).strftime(\"%x %X\"), 'buying', signals[signal], signal)\n",
        "                    else:\n",
        "                        try:\n",
        "                            api.submit_order(signal, 1, 'sell', 'market', 'day')\n",
        "                            logging.warning('{} {} - {}'.format(datetime.datetime.now(tz).strftime(\"%x %X\"), signal, signals[signal]))\n",
        "                        except Exception as e:\n",
        "                            # print('No sell', signal, e)\n",
        "                            pass\n",
        "\n",
        "                time.sleep(60)\n",
        "            else:\n",
        "                # Get time amount until open, sleep that amount\n",
        "                print('Market closed ({})'.format(datetime.datetime.now(tz)))\n",
        "                print('Sleeping', round(time_to_open(datetime.datetime.now(tz))/60/60, 2), 'hours')\n",
        "                time.sleep(time_to_open(datetime.datetime.now(tz)))\n",
        "        else:\n",
        "            # If not trading day, find out how much until open, sleep that amount\n",
        "            print('Market closed ({})'.format(datetime.datetime.now(tz)))\n",
        "            print('Sleeping', round(time_to_open(datetime.datetime.now(tz))/60/60, 2), 'hours')\n",
        "            time.sleep(time_to_open(datetime.datetime.now(tz)))\n",
        "\n",
        "stocks = ['AA','AAL','AAPL','AIG','AMAT','AMC','AMD',\n",
        "          'AMGN','AMZN','APA','BA','BABA','BAC','BBY',\n",
        "          'BIDU','BP','C','CAT','CMG','COP','COST',\n",
        "          'CSCO','CVX','DAL','DIA','DIS','EBAY',]\n",
        "\n",
        "print('test:')\n",
        "print(get_data_bars(['AA'], '5Min', 20, 5).head())\n",
        "\n",
        "run_checker(stocks)"
      ],
      "execution_count": null,
      "outputs": [
        {
          "output_type": "stream",
          "text": [
            "test:\n",
            "                              AA                  ...                         \n",
            "                            open    high     low  ... volume fast_ema slow_ema\n",
            "2020-07-22 14:20:00-04:00  13.13  13.135  13.110  ...   2337      NaN      NaN\n",
            "2020-07-22 14:25:00-04:00  13.12  13.120  13.095  ...   3885      NaN      NaN\n",
            "2020-07-22 14:30:00-04:00  13.11  13.130  13.100  ...   1904      NaN      NaN\n",
            "2020-07-22 14:35:00-04:00  13.12  13.130  13.110  ...   1180      NaN      NaN\n",
            "2020-07-22 14:40:00-04:00  13.13  13.130  13.110  ...   1942    13.12      NaN\n",
            "\n",
            "[5 rows x 7 columns]\n",
            "run_checker started\n",
            "Trading day\n"
          ],
          "name": "stdout"
        }
      ]
    },
    {
      "cell_type": "code",
      "metadata": {
        "id": "SN0sYaUJ1WCt",
        "colab_type": "code",
        "colab": {}
      },
      "source": [
        ""
      ],
      "execution_count": null,
      "outputs": []
    }
  ]
}